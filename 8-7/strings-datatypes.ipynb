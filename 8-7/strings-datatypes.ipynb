{
 "cells": [
  {
   "cell_type": "markdown",
   "metadata": {},
   "source": [
    "<h1> Strings and Data Types </h1>\n",
    "\n",
    "<p>Your basic data types involve:</p>\n",
    "<ul>- Strings</ul>\n",
    "<ul>- Integers (int)</ul>\n",
    "<ul>- Floats (float)</ul>\n",
    "<ul>- Boolean (bool)</ul>\n",
    "\n",
    "These data types store some sort of value within them. With these four, the types of data they store is more or less self-explanatory: strings hold text, integers hold integer numbers, floats hold floating-point (decimal) numbers, and booleans hold strictly hold the `True` or `False` equivalent of a value (lack of a value).\n",
    "\n",
    "`print()` serves as a way to present information to the user. Information held by the program is not visible to the user or even the programmer: only with some sort of interface such as the terminal or something you make such as an user interface can any sort of information be visible to the human. `print()` outputs the string equivalents of the values put inside of it onto the terminal. In conjunction with f-strings, there are many ways `print()` can be used to better format information if necessary."
   ]
  },
  {
   "cell_type": "code",
   "execution_count": 1,
   "metadata": {},
   "outputs": [
    {
     "name": "stdout",
     "output_type": "stream",
     "text": [
      "Anthony Pham Not TU chocolate\n"
     ]
    }
   ],
   "source": [
    "# Basic Output\n",
    "\n",
    "name = \"Anthony\"\n",
    "last_name = \"Pham\"\n",
    "university = \"Not TU\"\n",
    "favorite_milk = \"chocolate\"\n",
    "\n",
    "print(name, last_name, university, favorite_milk)"
   ]
  },
  {
   "cell_type": "code",
   "execution_count": 2,
   "metadata": {},
   "outputs": [
    {
     "name": "stdout",
     "output_type": "stream",
     "text": [
      "First Name: Anthony, Last Name: Pham, Uni: Not TU, Milk: chocolate\n"
     ]
    }
   ],
   "source": [
    "# Spice up the output\n",
    "\n",
    "print(f\"First Name: {name}, Last Name: {last_name}, Uni: {university}, Milk: {favorite_milk}\")"
   ]
  },
  {
   "cell_type": "code",
   "execution_count": 10,
   "metadata": {},
   "outputs": [
    {
     "name": "stdout",
     "output_type": "stream",
     "text": [
      "Radius of 4.0 gives us an area of 50.2654824574\n"
     ]
    }
   ],
   "source": [
    "from math import *\n",
    "\n",
    "# Basic Area Calculator\n",
    "radius = 4.0\n",
    "\n",
    "print(f\"Radius of {radius} gives us an area of {radius ** 2 * pi}\")"
   ]
  },
  {
   "cell_type": "markdown",
   "metadata": {},
   "source": [
    "Using `type()`, a built-in function, you can verify the type of the value you put inside of it."
   ]
  },
  {
   "cell_type": "code",
   "execution_count": 12,
   "metadata": {},
   "outputs": [
    {
     "name": "stdout",
     "output_type": "stream",
     "text": [
      "<class 'int'> <class 'float'> <class 'str'> <class 'bool'>\n"
     ]
    }
   ],
   "source": [
    "# Data Types\n",
    "\n",
    "age = 20                # int (integer)\n",
    "pie = 3.14              # float (decimal/floating-point number)\n",
    "ethnicity = \"viet\"      # string\n",
    "isAlive = True          # boolean\n",
    "\n",
    "print(type(age), type(pie), type(ethnicity), type(isAlive))\n",
    "\n"
   ]
  },
  {
   "cell_type": "markdown",
   "metadata": {},
   "source": [
    "When converting to `int`:\n",
    "- From `float`: drops the decimal point\n",
    "   - Careful of **floating point error**, where a float with a ton of 9s can actually be representing the number you get when you round the float\n",
    "- From `bool`: `True` becomes 1 and `False` becomes 0\n",
    "- From strings: If the text inside is an integer, then the conversion goes as planned. Otherwise, you get an error."
   ]
  },
  {
   "cell_type": "code",
   "execution_count": 32,
   "metadata": {},
   "outputs": [
    {
     "name": "stdout",
     "output_type": "stream",
     "text": [
      "3\n",
      "4\n",
      "1 0\n",
      "69\n"
     ]
    },
    {
     "ename": "ValueError",
     "evalue": "invalid literal for int() with base 10: 'sixty-nine'",
     "output_type": "error",
     "traceback": [
      "\u001b[1;31m---------------------------------------------------------------------------\u001b[0m",
      "\u001b[1;31mValueError\u001b[0m                                Traceback (most recent call last)",
      "Cell \u001b[1;32mIn[32], line 15\u001b[0m\n\u001b[0;32m     12\u001b[0m \u001b[39mprint\u001b[39m(\u001b[39mint\u001b[39m(\u001b[39m\"\u001b[39m\u001b[39m69\u001b[39m\u001b[39m\"\u001b[39m))   \u001b[39m# 69 (int)\u001b[39;00m\n\u001b[0;32m     14\u001b[0m \u001b[39m# Not so nice conversion from string to int\u001b[39;00m\n\u001b[1;32m---> 15\u001b[0m \u001b[39mprint\u001b[39m(\u001b[39mint\u001b[39;49m(\u001b[39m\"\u001b[39;49m\u001b[39msixty-nine\u001b[39;49m\u001b[39m\"\u001b[39;49m))\n",
      "\u001b[1;31mValueError\u001b[0m: invalid literal for int() with base 10: 'sixty-nine'"
     ]
    }
   ],
   "source": [
    "# Converting to int\n",
    "\n",
    "print(int(3.99))   # int(3.99) -> 3\n",
    "\n",
    "# Floating point error: Python being shamelessly bad with decimal points\n",
    "# Internally: 4 (sometimes) = 3.999999999999999999 (way too many 9s)\n",
    "print(int(3.999999999999999999999999999))   # 4?????\n",
    "\n",
    "print(int(True), int(False))\n",
    "\n",
    "# Nice conversion from string to int\n",
    "print(int(\"69\"))   # 69 (int)\n",
    "\n",
    "# Not so nice conversion from string to int\n",
    "print(int(\"sixty-nine\"))"
   ]
  },
  {
   "cell_type": "markdown",
   "metadata": {},
   "source": [
    "When converting to `float`:\n",
    "- From `int`: adds the decimal point\n",
    "   - Careful of **floating point error**, where a float with a ton of 9s can actually be representing the number you get when you round the float\n",
    "- From `bool`: `True` becomes 1 and `False` becomes 0\n",
    "- From strings: If the text inside is any number, then the conversion goes as planned. Otherwise, you get an error."
   ]
  },
  {
   "cell_type": "code",
   "execution_count": 33,
   "metadata": {},
   "outputs": [
    {
     "name": "stdout",
     "output_type": "stream",
     "text": [
      "3.0\n",
      "4.0\n",
      "1.0 0.0\n",
      "69.0\n",
      "69.42\n"
     ]
    },
    {
     "ename": "ValueError",
     "evalue": "could not convert string to float: 'sixty-nine'",
     "output_type": "error",
     "traceback": [
      "\u001b[1;31m---------------------------------------------------------------------------\u001b[0m",
      "\u001b[1;31mValueError\u001b[0m                                Traceback (most recent call last)",
      "Cell \u001b[1;32mIn[33], line 16\u001b[0m\n\u001b[0;32m     13\u001b[0m \u001b[39mprint\u001b[39m(\u001b[39mfloat\u001b[39m(\u001b[39m\"\u001b[39m\u001b[39m69.420\u001b[39m\u001b[39m\"\u001b[39m)) \u001b[39m# 69.420\u001b[39;00m\n\u001b[0;32m     15\u001b[0m \u001b[39m# Not so nice conversion from string to float\u001b[39;00m\n\u001b[1;32m---> 16\u001b[0m \u001b[39mprint\u001b[39m(\u001b[39mfloat\u001b[39;49m(\u001b[39m\"\u001b[39;49m\u001b[39msixty-nine\u001b[39;49m\u001b[39m\"\u001b[39;49m))\n",
      "\u001b[1;31mValueError\u001b[0m: could not convert string to float: 'sixty-nine'"
     ]
    }
   ],
   "source": [
    "# Converting to float\n",
    "\n",
    "print(float(3))   # float(3.99) -> 3\n",
    "\n",
    "# Floating point error: Python being shamelessly bad with decimal points\n",
    "# Internally: 4 (sometimes) = 3.999999999999999999 (way too many 9s)\n",
    "print(float(3.999999999999999999999999999))   # 4?????\n",
    "\n",
    "print(float(True), float(False))\n",
    "\n",
    "# Nice conversion from string to float\n",
    "print(float(\"69\"))     # 69.0\n",
    "print(float(\"69.420\")) # 69.420\n",
    "\n",
    "# Not so nice conversion from string to float\n",
    "print(float(\"sixty-nine\"))"
   ]
  },
  {
   "cell_type": "markdown",
   "metadata": {},
   "source": [
    "To put simply, when you convert to `bool`, if your value is empty/nothing of value (`0`, `0.0`, `\"\"`), then you get `False`. Anything else that is non-empty or has value will get you `True`."
   ]
  },
  {
   "cell_type": "code",
   "execution_count": 23,
   "metadata": {},
   "outputs": [
    {
     "name": "stdout",
     "output_type": "stream",
     "text": [
      "False\n",
      "False\n",
      "False\n",
      "True\n",
      "True\n",
      "True\n"
     ]
    }
   ],
   "source": [
    "# Conversions to boolean\n",
    "\n",
    "# Nothing becomes False\n",
    "print(bool(0))\n",
    "print(bool(0.0))\n",
    "print(bool(\"\"))\n",
    "\n",
    "# Anything other than those values gives me True\n",
    "print(bool(1))\n",
    "print(bool(0.0000000000001))\n",
    "print(bool(\"a\"))"
   ]
  },
  {
   "cell_type": "markdown",
   "metadata": {},
   "source": [
    "Converting to a string is simple: just slap quotes on either end of the value and there you go, a string."
   ]
  },
  {
   "cell_type": "code",
   "execution_count": 24,
   "metadata": {},
   "outputs": [
    {
     "name": "stdout",
     "output_type": "stream",
     "text": [
      "'1'\n",
      "'1.0'\n",
      "'True'\n"
     ]
    }
   ],
   "source": [
    "# Conversion to String\n",
    "\n",
    "# Slap some quotes on the value \n",
    "# repr() also will output the quotes if the value is a String\n",
    "print(repr(str(1)))\n",
    "print(repr(str(1.0)))\n",
    "print(repr(str(True)))\n",
    "\n",
    "# Valid strings\n",
    "name = 'anthony'\n",
    "name = \"anthony\"\n",
    "\n",
    "# Not valid\n",
    "# name = 'anthony\""
   ]
  },
  {
   "cell_type": "markdown",
   "metadata": {},
   "source": [
    "`repr()` will output what the class representation as a string is. For a string, it's just the text but with the quotes included as well. You can make custom classes (data types in a sense) and have your own behavior for `repr()` if you choose to."
   ]
  },
  {
   "cell_type": "code",
   "execution_count": 30,
   "metadata": {},
   "outputs": [
    {
     "name": "stdout",
     "output_type": "stream",
     "text": [
      "Yo yo, my name is miss rev\n"
     ]
    }
   ],
   "source": [
    "# YoYo datatype\n",
    "\n",
    "class YoYo:\n",
    "    def __init__(self, name) -> None:\n",
    "        self.name = name\n",
    "\n",
    "    def __repr__(self) -> str:\n",
    "        return f\"Yo yo, my name is {self.name}\"\n",
    "    \n",
    "yoyo = YoYo(\"miss rev\")\n",
    "print(yoyo)"
   ]
  }
 ],
 "metadata": {
  "kernelspec": {
   "display_name": "Python 3",
   "language": "python",
   "name": "python3"
  },
  "language_info": {
   "codemirror_mode": {
    "name": "ipython",
    "version": 3
   },
   "file_extension": ".py",
   "mimetype": "text/x-python",
   "name": "python",
   "nbconvert_exporter": "python",
   "pygments_lexer": "ipython3",
   "version": "3.10.11"
  },
  "orig_nbformat": 4
 },
 "nbformat": 4,
 "nbformat_minor": 2
}
