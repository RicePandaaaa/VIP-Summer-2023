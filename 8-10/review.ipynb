{
 "cells": [
  {
   "cell_type": "code",
   "execution_count": 2,
   "metadata": {},
   "outputs": [
    {
     "name": "stdout",
     "output_type": "stream",
     "text": [
      "<class 'float'> <class 'int'>\n",
      "1.0 1\n"
     ]
    }
   ],
   "source": [
    "# Division\n",
    "\n",
    "regular = 4 / 4\n",
    "integer = 4 // 4\n",
    "\n",
    "print(type(regular), type(integer))\n",
    "print(regular, integer)"
   ]
  },
  {
   "cell_type": "code",
   "execution_count": 9,
   "metadata": {},
   "outputs": [
    {
     "name": "stdout",
     "output_type": "stream",
     "text": [
      "HowdyHowdyHowdy\n",
      "HowdyHowdyHowdy\n",
      "[0, 0, 0, 0, 0, 0, 0, 0, 0, 0] \n",
      " Length of \"grades\" is 10\n"
     ]
    }
   ],
   "source": [
    "# Multiplication\n",
    "\n",
    "# Multiply strings\n",
    "howdy = \"Howdy\"\n",
    "\n",
    "for i in range(3):\n",
    "    print(howdy, end=\"\")\n",
    "\n",
    "print()\n",
    "print(howdy * 3)\n",
    "\n",
    "# Multiply a list to preset a list\n",
    "grades = [0] * 10\n",
    "\n",
    "print(grades, \"\\n\", f\"Length of \\\"grades\\\" is {len(grades)}\")"
   ]
  },
  {
   "cell_type": "code",
   "execution_count": 10,
   "metadata": {},
   "outputs": [
    {
     "name": "stdout",
     "output_type": "stream",
     "text": [
      "0\n",
      "1\n",
      "2\n",
      "3\n",
      "4\n",
      "5\n",
      "6\n",
      "\n"
     ]
    }
   ],
   "source": [
    "# General rule of thumb is try not to use break\n",
    "\n",
    "# Use with any loops\n",
    "for i in range(0, 10):\n",
    "    if i == 7:\n",
    "        break\n",
    "    print(i, end=\"\\n\")\n",
    "print()"
   ]
  },
  {
   "cell_type": "code",
   "execution_count": 11,
   "metadata": {},
   "outputs": [
    {
     "name": "stdout",
     "output_type": "stream",
     "text": [
      "0\n",
      "1\n",
      "2\n",
      "3\n",
      "4\n",
      "5\n",
      "6\n",
      "8\n",
      "9\n",
      "\n"
     ]
    }
   ],
   "source": [
    "# continue forces next iteration\n",
    "\n",
    "for i in range(0, 10):\n",
    "    if i == 7:\n",
    "        continue\n",
    "    print(i, end=\"\\n\")\n",
    "print()"
   ]
  },
  {
   "cell_type": "code",
   "execution_count": 19,
   "metadata": {},
   "outputs": [
    {
     "name": "stdout",
     "output_type": "stream",
     "text": [
      "ANTHONY Anthony Anthony\n",
      "2196109183728 2196109183728\n"
     ]
    }
   ],
   "source": [
    "# Strings are immuatble -> cannot be directly changed\n",
    "\n",
    "name = \"Anthony\"\n",
    "new_name = name.upper()\n",
    "\n",
    "print(new_name, name)\n"
   ]
  },
  {
   "cell_type": "code",
   "execution_count": 24,
   "metadata": {},
   "outputs": [
    {
     "name": "stdout",
     "output_type": "stream",
     "text": [
      "Tony\n",
      "Ant {'Anthony': 'Ant', 'Miss Reveille': 'Miss Rev'}\n",
      "{'Anthony': 'Ant', 'Miss Reveille': 'Miss Rev', 'Marissa': 'Luna'}\n"
     ]
    },
    {
     "ename": "KeyError",
     "evalue": "'Witcliffe'",
     "output_type": "error",
     "traceback": [
      "\u001b[1;31m---------------------------------------------------------------------------\u001b[0m",
      "\u001b[1;31mKeyError\u001b[0m                                  Traceback (most recent call last)",
      "Cell \u001b[1;32mIn[24], line 37\u001b[0m\n\u001b[0;32m     34\u001b[0m \u001b[39mprint\u001b[39m(nicknames)\n\u001b[0;32m     36\u001b[0m \u001b[39m# Invalid key -> error\u001b[39;00m\n\u001b[1;32m---> 37\u001b[0m \u001b[39mprint\u001b[39m(nicknames[\u001b[39m\"\u001b[39;49m\u001b[39mWitcliffe\u001b[39;49m\u001b[39m\"\u001b[39;49m])\n",
      "\u001b[1;31mKeyError\u001b[0m: 'Witcliffe'"
     ]
    }
   ],
   "source": [
    "# Tf is a dictionary?\n",
    "\n",
    "nicknames = {\"Anthony\": \"Tony\", \"Miss Reveille\": \"Miss Rev\"}\n",
    "\n",
    "\"\"\"\n",
    "In a list, each value is associated with an index\n",
    "\n",
    "ages = [19, 20, 67]\n",
    "\n",
    "ages[0] -> 19, ages[1] -> 20, ages[2] -> 67\n",
    "\"\"\"\n",
    "\n",
    "\"\"\"\n",
    "Indexing in a dictionary is based on the values to the left of the colon\n",
    "\n",
    "nicknames = {\"Anthony\": \"Tony\", \"Miss Reveille\": \"Miss Rev\"}\n",
    "               ^                      ^\n",
    "               [        keys          ]\n",
    "\n",
    "Key: Anthony, and its value is \"Tony\"\n",
    "Key: Miss Reveille, and its value is \"Miss Rev\"\n",
    "\n",
    "{key: value, key: value, ...}\n",
    "\"\"\"\n",
    "\n",
    "print(nicknames[\"Anthony\"])\n",
    "\n",
    "# Assign to pre-existing key (remember that keys are unique)\n",
    "nicknames[\"Anthony\"] = \"Ant\"\n",
    "print(nicknames[\"Anthony\"], nicknames)\n",
    "\n",
    "# Add to dictionary\n",
    "nicknames[\"Marissa\"] = \"Luna\"\n",
    "print(nicknames)\n",
    "\n",
    "# Invalid key -> error\n",
    "print(nicknames[\"Witcliffe\"])"
   ]
  },
  {
   "cell_type": "code",
   "execution_count": 28,
   "metadata": {},
   "outputs": [
    {
     "name": "stdout",
     "output_type": "stream",
     "text": [
      "['A', 'B', 'C', 'D', 'E', 'F', 'G', 'H', 'I', 'J', 'K', 'L', 'M', 'N', 'O', 'P', 'Q', 'R', 'S', 'T', 'U', 'V', 'W', 'X', 'Y', 'Z']\n",
      "A Z\n",
      "['A', 'B', 'C'] [] ['U', 'V', 'W', 'X', 'Y', 'Z'] ['A', 'B', 'C', 'D', 'E', 'F']\n"
     ]
    }
   ],
   "source": [
    "# Lists - They store stuff... cus they're called... lists\n",
    "\n",
    "letters = list(\"ABCDEFGHIJKLMNOPQRSTUVWXYZ\")\n",
    "print(letters)\n",
    "\n",
    "# Grab one item \n",
    "print(letters[0], letters[-1])\n",
    "\n",
    "# Grab multiple items (slice)\n",
    "print(letters[0:3], letters[3:3], letters[20:], letters[:-20])"
   ]
  },
  {
   "cell_type": "code",
   "execution_count": 30,
   "metadata": {},
   "outputs": [
    {
     "name": "stdout",
     "output_type": "stream",
     "text": [
      "\n",
      "2 | \n",
      "3 | 6 | \n",
      "4 | 8 | 12 | \n",
      "5 | 10 | 15 | 20 | \n",
      "6 | 12 | 18 | 24 | 30 | \n",
      "7 | 14 | 21 | 28 | 35 | 42 | \n",
      "8 | 16 | 24 | 32 | 40 | 48 | 56 | \n",
      "9 | 18 | 27 | 36 | 45 | 54 | 63 | 72 | \n",
      "10 | 20 | 30 | 40 | 50 | 60 | 70 | 80 | 90 | \n"
     ]
    }
   ],
   "source": [
    "# Print the f*cking multiplication table\n",
    "\n",
    "for x in range(1, 11):\n",
    "    for y in range(1, x):\n",
    "        print(f\"{x * y}\", end=\" | \")\n",
    "    print(\"\")"
   ]
  }
 ],
 "metadata": {
  "kernelspec": {
   "display_name": "Python 3",
   "language": "python",
   "name": "python3"
  },
  "language_info": {
   "codemirror_mode": {
    "name": "ipython",
    "version": 3
   },
   "file_extension": ".py",
   "mimetype": "text/x-python",
   "name": "python",
   "nbconvert_exporter": "python",
   "pygments_lexer": "ipython3",
   "version": "3.10.11"
  },
  "orig_nbformat": 4
 },
 "nbformat": 4,
 "nbformat_minor": 2
}
