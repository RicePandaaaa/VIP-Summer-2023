{
 "cells": [
  {
   "cell_type": "code",
   "execution_count": 24,
   "metadata": {},
   "outputs": [],
   "source": [
    "# Basic format for if/elif/else\n",
    "\n",
    "# Random conditions for the sake for formatting\n",
    "condition = 3 > 4\n",
    "condition2 = 4 > 5\n",
    "condition3 = 5 > 6\n",
    "condition4 = 6 > 7\n",
    "\n",
    "if condition:\n",
    "    pass # Do something\n",
    "elif condition2:\n",
    "    pass # Do something \n",
    "if condition3:\n",
    "    pass # Do something\n",
    "elif condition4:\n",
    "    pass # Do something\n",
    "else:\n",
    "    pass # Do something"
   ]
  },
  {
   "cell_type": "code",
   "execution_count": null,
   "metadata": {},
   "outputs": [],
   "source": [
    "# Operators\n",
    "\n",
    "\"\"\"\n",
    "Comparision: \n",
    " * == (equals to), != (not equals to)\n",
    " * <  (less than), <= (less than or equal to)\n",
    " * >  (greater than), >= (greater than or equal to)\n",
    "\n",
    "Keywords:\n",
    " * \"and\": returns True only if left and right conditions are both True\n",
    " * \"or\": returns True only if either left or right conditions are True\n",
    " * \"not\": negates the condition to its right\n",
    "\n",
    "\"\"\""
   ]
  },
  {
   "cell_type": "code",
   "execution_count": 5,
   "metadata": {},
   "outputs": [
    {
     "name": "stdout",
     "output_type": "stream",
     "text": [
      "4 is not divisible by 3.\n"
     ]
    }
   ],
   "source": [
    "# Check if numbers are odd\n",
    "\n",
    "# num = int(input())\n",
    "num = 4\n",
    "\n",
    "if num % 3 == 0:\n",
    "    print(f\"{num} is divisible by 3.\")\n",
    "else:\n",
    "    print(f\"{num} is not divisible by 3.\")"
   ]
  },
  {
   "cell_type": "code",
   "execution_count": 13,
   "metadata": {},
   "outputs": [
    {
     "name": "stdout",
     "output_type": "stream",
     "text": [
      "Bye\n",
      "Hi\n"
     ]
    }
   ],
   "source": [
    "# Short Circuiting\n",
    "\n",
    "# Formal term for executing only when the left side determines the result\n",
    "\n",
    "a = 5\n",
    "b = 6\n",
    "c = 7\n",
    "\n",
    "# \"and\" immediately results in False if the left-hand side results in False\n",
    "# and never executes the right-hand side\n",
    "if a > b and 0/0:\n",
    "    print(\"Hi\")\n",
    "else:\n",
    "    print(\"Bye\")\n",
    "\n",
    "# \"or\" immediately results in True if the left-hand side results in True\n",
    "# and never execute the right-hand side\n",
    "if a < b or 0/0:\n",
    "    print(\"Hi\")\n",
    "else:\n",
    "    print(\"Bye\")"
   ]
  },
  {
   "cell_type": "code",
   "execution_count": null,
   "metadata": {},
   "outputs": [],
   "source": [
    "# Conditional Chaining\n",
    "\n",
    "# Usually, in other languauges, you have to combine 3+ conditionals with and/or\n",
    "# Python doesn't care though\n",
    "\n",
    "condition1 = 1 < 2   # True\n",
    "condition2 = 1 > 2   # False\n",
    "condition3 = 1 == 2  # False\n",
    "\n",
    "if condition1 and condition2 and condition3:\n",
    "    pass # Do something\n",
    "if condition1 or condition2 or condition3:\n",
    "    pass # Do something\n",
    "\n",
    "# Prefer to chain with the same operator (or use parentheses to end up with the same operator in spirit)\n",
    "# When you chain operators, you basically chain individually with \"and\"\n",
    "if 1 < 2 < 3 < 4 < 5:\n",
    "    pass # Do something\n",
    "\n",
    "# Equivalent of above is\n",
    "if 1 < 2 and 2 < 3 and 3 < 4 and 4 < 5:\n",
    "    pass # Do something\n",
    "\n",
    "if (condition1 or condition2) and (condition2 or condition3):\n",
    "    pass # Do something\n",
    "\n",
    "if condition1 or (condition2 and condition3) or condition4:\n",
    "    pass # Do something\n",
    "\n",
    "# Try not to mix\n",
    "if condition1 or condition2 and condition3 or condition1:\n",
    "    pass # Do something\n",
    "\n",
    "if 1 < 2 > -1 < 0 > -5 < 7:\n",
    "    pass # Do something"
   ]
  },
  {
   "cell_type": "code",
   "execution_count": 20,
   "metadata": {},
   "outputs": [
    {
     "name": "stdout",
     "output_type": "stream",
     "text": [
      "True False\n"
     ]
    }
   ],
   "source": [
    "# \"not\" will negate the result of the condition to its right\n",
    "condition1 = 1 < 2\n",
    "\n",
    "print(condition1, not condition1)"
   ]
  },
  {
   "cell_type": "code",
   "execution_count": 25,
   "metadata": {},
   "outputs": [],
   "source": [
    "# Nest if statements\n",
    "\n",
    "if condition1:\n",
    "    if condition2:\n",
    "        if condition3:\n",
    "            pass\n",
    "        else:\n",
    "            pass\n",
    "    else:\n",
    "        pass\n",
    "else:\n",
    "    pass"
   ]
  },
  {
   "cell_type": "code",
   "execution_count": 17,
   "metadata": {},
   "outputs": [
    {
     "name": "stdout",
     "output_type": "stream",
     "text": [
      "[0, 2, 4]\n",
      "7 was not reached.\n"
     ]
    }
   ],
   "source": [
    "# Wonky Ass Stuff\n",
    "\n",
    "# A list is a collection of items\n",
    "numbers = [1, 2, 3, 4, 5, 6]\n",
    "\n",
    "# Generate a list in a list (you can put an if statement... with a for loop???)\n",
    "numbers = [i for i in range(6) if i % 2 == 0]\n",
    "\n",
    "print(numbers)\n",
    "\n",
    "# Use else... with loops?\n",
    "for i in range(6):\n",
    "    if i == 7:\n",
    "        break\n",
    "else:\n",
    "    print(\"7 was not reached.\")"
   ]
  },
  {
   "cell_type": "code",
   "execution_count": 2,
   "metadata": {},
   "outputs": [
    {
     "name": "stdout",
     "output_type": "stream",
     "text": [
      "49: 52.74666666666668\n",
      "50: 53.31\n",
      "51: 53.87333333333334\n",
      "52: 54.436666666666675\n",
      "53: 55.00000000000001\n",
      "54: 55.56333333333334\n",
      "55: 56.126666666666665\n",
      "56: 56.690000000000005\n",
      "57: 57.25333333333334\n",
      "58: 57.81666666666667\n",
      "59: 58.38\n",
      "60: 58.943333333333335\n",
      "61: 59.506666666666675\n",
      "62: 60.07\n",
      "63: 60.63333333333333\n",
      "64: 61.19666666666667\n",
      "65: 61.76\n",
      "66: 62.32333333333333\n",
      "67: 62.88666666666668\n",
      "68: 63.45000000000001\n",
      "69: 64.01333333333334\n",
      "70: 64.57666666666667\n",
      "71: 65.14\n",
      "72: 65.70333333333333\n",
      "73: 66.26666666666667\n",
      "74: 66.83\n",
      "75: 67.39333333333333\n",
      "76: 67.95666666666666\n",
      "77: 68.52\n",
      "78: 69.08333333333333\n",
      "79: 69.64666666666666\n",
      "80: 70.21\n",
      "81: 70.77333333333333\n",
      "82: 71.33666666666667\n",
      "83: 71.89999999999999\n",
      "84: 72.46333333333332\n",
      "85: 73.02666666666666\n",
      "86: 73.58999999999999\n",
      "87: 74.15333333333332\n",
      "88: 74.71666666666665\n",
      "89: 75.27999999999999\n",
      "90: 75.84333333333333\n",
      "91: 76.40666666666667\n",
      "92: 76.97\n",
      "93: 77.53333333333333\n",
      "94: 78.09666666666666\n",
      "95: 78.66\n",
      "96: 79.22333333333333\n",
      "97: 79.78666666666668\n",
      "98: 80.35000000000001\n",
      "99: 80.91333333333333\n",
      "100: 81.47666666666667\n"
     ]
    }
   ],
   "source": [
    "e1, e2, e3 = 82, 49, 54\n",
    "\n",
    "for i in range(49, 101):\n",
    "    if i >= e2:\n",
    "        print(f\"{i}: {(e1+i+e3) / 3* 0.55 + i * 0.38 + 3 * 0.07}\")\n",
    "    else:\n",
    "        print(f\"{i}: {(e1+e2+e3) / 3 * 0.55 + i * 0.38 + 3 * 0.07}\")"
   ]
  },
  {
   "cell_type": "code",
   "execution_count": null,
   "metadata": {},
   "outputs": [],
   "source": []
  }
 ],
 "metadata": {
  "kernelspec": {
   "display_name": "Python 3",
   "language": "python",
   "name": "python3"
  },
  "language_info": {
   "codemirror_mode": {
    "name": "ipython",
    "version": 3
   },
   "file_extension": ".py",
   "mimetype": "text/x-python",
   "name": "python",
   "nbconvert_exporter": "python",
   "pygments_lexer": "ipython3",
   "version": "3.10.11"
  },
  "orig_nbformat": 4
 },
 "nbformat": 4,
 "nbformat_minor": 2
}
